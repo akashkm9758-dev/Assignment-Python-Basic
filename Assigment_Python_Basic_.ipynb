{
  "nbformat": 4,
  "nbformat_minor": 0,
  "metadata": {
    "colab": {
      "provenance": []
    },
    "kernelspec": {
      "name": "python3",
      "display_name": "Python 3"
    },
    "language_info": {
      "name": "python"
    }
  },
  "cells": [
    {
      "cell_type": "markdown",
      "source": [
        "# **Theory Assignment**"
      ],
      "metadata": {
        "id": "kYnefC21cYdd"
      }
    },
    {
      "cell_type": "markdown",
      "source": [
        "1. What is Python, and why is it popular?\n",
        "\n",
        "Ans. Python is a high-level, interpreted, and general-purpose programming language. It is popular\n",
        "because it is easy to learn, has a simple syntax, a large standard library, and supports multiple\n",
        "programming paradigms such as procedural, object-oriented, and functional programming.\n",
        "\n",
        "2. What is an interpreter in Python?\n",
        "\n",
        "Ans. An interpreter in Python is a program that executes Python code line by line, converting it into\n",
        "machine-readable instructions.\n",
        "\n",
        "3. What are pre-defined keywords in Python?\n",
        "\n",
        "Ans. Pre-defined keywords are reserved words in Python that have special meanings, Ex- if, else,\n",
        "while, for, def, return, True, False, etc.\n",
        "\n",
        "4. Can keywords be used as variable names?\n",
        "\n",
        "Ans. No, keywords cannot be used as variable names because they are reserved for specific purposes\n",
        "in Python syntax.\n",
        "\n",
        "5. What is mutability in Python?\n",
        "\n",
        "Ans. Mutability refers to whether an object’s value can be changed after it is created. Mutable objects\n",
        "can be changed, while immutable objects cannot.\n",
        "\n",
        "6. Why are lists mutable, but tuples are immutable?\n",
        "\n",
        "Ans. Lists are mutable because their elements can be changed, added, or removed after creation.\n",
        "Tuples are immutable, meaning once created, their elements cannot be modified.\n",
        "\n",
        "7. What is the difference between '==' and 'is' operators in Python?\n",
        "\n",
        "Ans. '==' checks if two objects have the same value, while 'is' checks if two objects refer to the same\n",
        "memory location.\n",
        "\n",
        "8. What are logical operators in Python?\n",
        "\n",
        "Ans. The logical operators in Python are: and, or, and not.\n",
        "\n",
        "9. What is type casting in Python?\n",
        "\n",
        "Ans. Type casting is the process of converting one data type into another, Ex- int('5') to convert a string\n",
        "to an integer.\n",
        "\n",
        "10. What is the difference between implicit and explicit type casting?\n",
        "\n",
        "Ans. Implicit type casting is done automatically by Python (type promotion). Explicit type casting is done\n",
        "manually by the programmer using functions like int(), float(), str().\n",
        "\n",
        "11. What is the purpose of conditional statements in Python?\n",
        "\n",
        "Ans. Conditional statements are used to make decisions in a program, allowing different code blocks to\n",
        "run based on conditions (if, elif, else).\n",
        "\n",
        "12. How does the elif statement work?\n",
        "\n",
        "Ans. The elif statement allows checking multiple conditions in sequence. It runs the first block whose\n",
        "condition is True, and skips the rest.\n",
        "\n",
        "13. What is the difference between for and while loops?\n",
        "\n",
        "Ans. A for loop is used when the number of iterations is known (Ex- iterating over a sequence). A while\n",
        "loop is used when the number of iterations is unknown and depends on a condition.\n",
        "\n",
        "14. Describe a scenario where a while loop is more suitable than a for loop.\n",
        "\n",
        "Ans. A while loop is more suitable when the number of iterations is not predetermined, such as reading\n",
        "user input until they enter 'quit'.\n"
      ],
      "metadata": {
        "id": "hNfCZ1qZ0qPu"
      }
    },
    {
      "cell_type": "markdown",
      "source": [
        "# Practical Assignment"
      ],
      "metadata": {
        "id": "WwztTyYsQwVX"
      }
    },
    {
      "cell_type": "markdown",
      "source": [
        "1. Write a Python program to print \"Hello, World!\""
      ],
      "metadata": {
        "id": "mJVQ0lhxSkOJ"
      }
    },
    {
      "cell_type": "code",
      "source": [
        "print(\"Hello, World!\")"
      ],
      "metadata": {
        "colab": {
          "base_uri": "https://localhost:8080/"
        },
        "id": "VmlnFVRySGE_",
        "outputId": "d2bd062f-b6bf-403c-c641-3716f4333894"
      },
      "execution_count": null,
      "outputs": [
        {
          "output_type": "stream",
          "name": "stdout",
          "text": [
            "Hello, World!\n"
          ]
        }
      ]
    },
    {
      "cell_type": "markdown",
      "source": [
        "2. Write a Python program that displays your name and age"
      ],
      "metadata": {
        "id": "KiBSvap3Ssch"
      }
    },
    {
      "cell_type": "code",
      "source": [
        "a = input(\"Your Name - \" )\n",
        "b=int(input(\"Your Age -\"))\n",
        "print(a)\n",
        "print(b)"
      ],
      "metadata": {
        "colab": {
          "base_uri": "https://localhost:8080/"
        },
        "collapsed": true,
        "id": "QB9i721TShqE",
        "outputId": "f72b9b04-a58f-4f99-d6af-68884c09923c"
      },
      "execution_count": null,
      "outputs": [
        {
          "output_type": "stream",
          "name": "stdout",
          "text": [
            "Your Name - akash\n",
            "Your Age -25\n",
            "akash\n",
            "25\n"
          ]
        }
      ]
    },
    {
      "cell_type": "markdown",
      "source": [
        "3. Write code to print all the pre-defined keywords in Python using the keyword library"
      ],
      "metadata": {
        "id": "HsXcClvXT97f"
      }
    },
    {
      "cell_type": "code",
      "source": [
        "import keyword\n",
        "keywords = keyword.kwlist\n",
        "print(\"Total keywords in Python-\", len(keywords))\n",
        "print(\"List of Python keywords-\")\n",
        "for kw in keywords:\n",
        "    print(kw)"
      ],
      "metadata": {
        "colab": {
          "base_uri": "https://localhost:8080/"
        },
        "collapsed": true,
        "id": "oasB4RmsT-qm",
        "outputId": "0031ed27-5d1f-416a-c04c-68543934eb5b"
      },
      "execution_count": null,
      "outputs": [
        {
          "output_type": "stream",
          "name": "stdout",
          "text": [
            "Total keywords in Python- 35\n",
            "List of Python keywords-\n",
            "False\n",
            "None\n",
            "True\n",
            "and\n",
            "as\n",
            "assert\n",
            "async\n",
            "await\n",
            "break\n",
            "class\n",
            "continue\n",
            "def\n",
            "del\n",
            "elif\n",
            "else\n",
            "except\n",
            "finally\n",
            "for\n",
            "from\n",
            "global\n",
            "if\n",
            "import\n",
            "in\n",
            "is\n",
            "lambda\n",
            "nonlocal\n",
            "not\n",
            "or\n",
            "pass\n",
            "raise\n",
            "return\n",
            "try\n",
            "while\n",
            "with\n",
            "yield\n"
          ]
        }
      ]
    },
    {
      "cell_type": "markdown",
      "source": [
        "4. Write a program that checks if a given word is a Python keyword."
      ],
      "metadata": {
        "id": "55O-aFCHT_ia"
      }
    },
    {
      "cell_type": "code",
      "source": [
        "import keyword\n",
        "word = input(\"Enter a word: \")\n",
        "if keyword.iskeyword(word):\n",
        "    print(f\"'{word}' is a Python keyword.\")\n",
        "else:\n",
        "    print(f\"'{word}' is NOT a Python keyword.\")"
      ],
      "metadata": {
        "colab": {
          "base_uri": "https://localhost:8080/"
        },
        "id": "wbMVWKKPUANF",
        "outputId": "b2a8a598-e1e2-46bd-fed1-bd69cc4112a0"
      },
      "execution_count": null,
      "outputs": [
        {
          "output_type": "stream",
          "name": "stdout",
          "text": [
            "Enter a word: else\n",
            "'else' is a Python keyword.\n"
          ]
        }
      ]
    },
    {
      "cell_type": "markdown",
      "source": [
        "5. Create a list and tuple in Python, and demonstrate how attempting to change an element works differently\n",
        "for each"
      ],
      "metadata": {
        "id": "h6k6HrLEUAsk"
      }
    },
    {
      "cell_type": "code",
      "source": [
        "my_list = [1, 2, 3, 4]\n",
        "print(\"Original List:\", my_list)\n",
        "b=int(input(\"change list no.(1st to 4th)\"))-1\n",
        "a=input(\"my_list[1] new element :\" )\n",
        "my_list[b]=a\n",
        "\n",
        "print(\"Modified List:\", my_list)\n",
        "\n",
        "my_tuple = (1, 2, 3, 4)\n",
        "print(\"\\nOriginal Tuple:\", my_tuple)\n",
        "\n",
        "try:\n",
        "    my_tuple[1] = 20\n",
        "except TypeError as e:\n",
        "    print(\"Error when modifying tuple:\", e)"
      ],
      "metadata": {
        "colab": {
          "base_uri": "https://localhost:8080/"
        },
        "id": "SddSxKMxUBRj",
        "outputId": "e77c363d-0487-4743-d59e-f27f2a96ea4e"
      },
      "execution_count": null,
      "outputs": [
        {
          "output_type": "stream",
          "name": "stdout",
          "text": [
            "Original List: [1, 2, 3, 4]\n",
            "change list no.(1st to 4th)3\n",
            "my_list[1] new element :55\n",
            "Modified List: [1, 2, '55', 4]\n",
            "\n",
            "Original Tuple: (1, 2, 3, 4)\n",
            "Error when modifying tuple: 'tuple' object does not support item assignment\n"
          ]
        }
      ]
    },
    {
      "cell_type": "markdown",
      "source": [
        "6. Write a function to demonstrate the behavior of mutable and immutable arguments"
      ],
      "metadata": {
        "id": "xg9ojs1gdBBR"
      }
    },
    {
      "cell_type": "code",
      "source": [
        "def mutable(arg_list):\n",
        "    print(\"\\nInside function (before change):\", arg_list)\n",
        "    arg_list.append(100)\n",
        "    print(\"Inside function (after change):\", arg_list)\n",
        "\n",
        "def immutable(arg_int):\n",
        "    print(\"\\nInside function (before change):\", arg_int)\n",
        "    arg_int += 10\n",
        "    print(\"Inside function (after change):\", arg_int)\n",
        "\n",
        "my_list = [1, 2, 3]\n",
        "print(\"Original List:\", my_list)\n",
        "mutable(my_list)\n",
        "print(\"Outside function:\", my_list)\n",
        "\n",
        "my_int = 50\n",
        "print(\"\\nOriginal Integer:\", my_int)\n",
        "immutable(my_int)\n",
        "print(\"Outside function:\", my_int)\n"
      ],
      "metadata": {
        "id": "j7KnpYv6dAV6",
        "colab": {
          "base_uri": "https://localhost:8080/"
        },
        "outputId": "4da3c0f7-3ae6-4293-a8d0-e810f64ac575"
      },
      "execution_count": 1,
      "outputs": [
        {
          "output_type": "stream",
          "name": "stdout",
          "text": [
            "Original List: [1, 2, 3]\n",
            "\n",
            "Inside function (before change): [1, 2, 3]\n",
            "Inside function (after change): [1, 2, 3, 100]\n",
            "Outside function: [1, 2, 3, 100]\n",
            "\n",
            "Original Integer: 50\n",
            "\n",
            "Inside function (before change): 50\n",
            "Inside function (after change): 60\n",
            "Outside function: 50\n"
          ]
        }
      ]
    },
    {
      "cell_type": "markdown",
      "source": [
        "7. Write a program that performs basic arithmetic operations on two user-input numbers."
      ],
      "metadata": {
        "id": "JjvYkeczdB6Y"
      }
    },
    {
      "cell_type": "code",
      "source": [
        "a = float(input(\"Enter first number: \"))\n",
        "b = float(input(\"Enter second number: \"))\n",
        "\n",
        "print(\"\\nArithmetic Operations:\")\n",
        "print(f\"{a} + {b} = {a + b}\")\n",
        "print(f\"{a} - {b} = {a - b}\")\n",
        "print(f\"{a} * {b} = {a * b}\")\n",
        "print(f\"{a} / {b} = {a / b}\")\n",
        "print(f\"{a} % {b} = {a % b}\")\n",
        "print(f\"{a} ** {b} = {a ** b}\")\n",
        "print(f\"{a} // {b} = {a // b}\")"
      ],
      "metadata": {
        "id": "13hi-UKEdC0q",
        "colab": {
          "base_uri": "https://localhost:8080/"
        },
        "collapsed": true,
        "outputId": "d190b674-8cf4-40a1-83bd-d2f02ad89aa6"
      },
      "execution_count": null,
      "outputs": [
        {
          "output_type": "stream",
          "name": "stdout",
          "text": [
            "Enter first number: 25\n",
            "Enter second number: 5\n",
            "\n",
            "Arithmetic Operations:\n",
            "25.0 + 5.0 = 30.0\n",
            "25.0 - 5.0 = 20.0\n",
            "25.0 * 5.0 = 125.0\n",
            "25.0 / 5.0 = 5.0\n",
            "25.0 % 5.0 = 0.0\n",
            "25.0 ** 5.0 = 9765625.0\n",
            "25.0 // 5.0 = 5.0\n"
          ]
        }
      ]
    },
    {
      "cell_type": "markdown",
      "source": [
        "8. Write a program to demonstrate the use of logical operators."
      ],
      "metadata": {
        "id": "qFDx-6cwdDR8"
      }
    },
    {
      "cell_type": "code",
      "source": [
        "a = int(input(\"Enter first number: \"))\n",
        "b = int(input(\"Enter second number: \"))\n",
        "\n",
        "print(\"\\nLogical Operator Demonstration:\")\n",
        "\n",
        "print(f\"({a} > 0) and ({b} > 0):\", (a > 0) and (b > 0))\n",
        "\n",
        "print(f\"({a} > 0) or ({b} > 0):\", (a > 0) or (b > 0))\n",
        "\n",
        "print(f\"not({a} > 0):\", not(a > 0))\n"
      ],
      "metadata": {
        "id": "bFQwU8KTdcPJ",
        "colab": {
          "base_uri": "https://localhost:8080/"
        },
        "collapsed": true,
        "outputId": "18f707b5-3352-4550-cebd-7a791cb3b02f"
      },
      "execution_count": null,
      "outputs": [
        {
          "output_type": "stream",
          "name": "stdout",
          "text": [
            "Enter first number: 25\n",
            "Enter second number: 5\n",
            "\n",
            "Logical Operator Demonstration:\n",
            "(25 > 0) and (5 > 0): True\n",
            "(25 > 0) or (5 > 0): True\n",
            "not(25 > 0): False\n"
          ]
        }
      ]
    },
    {
      "cell_type": "markdown",
      "source": [
        "9. Write a Python program to convert user input from string to integer, float, and boolean types."
      ],
      "metadata": {
        "id": "ISj0pNimdcy5"
      }
    },
    {
      "cell_type": "code",
      "source": [
        "a = input(\"Enter something: \")\n",
        "\n",
        "print(\"\\nOriginal input (string):\", a, type(a))\n",
        "\n",
        "try:\n",
        "    int_value = int(a)\n",
        "    print(\"As Integer:\", int_value, type(int_value))\n",
        "except ValueError:\n",
        "    print(\"Cannot convert to Integer\")\n",
        "\n",
        "try:\n",
        "    float_value = float(a)\n",
        "    print(\"As Float:\", float_value, type(float_value))\n",
        "except ValueError:\n",
        "    print(\"Cannot convert to Float\")\n",
        "\n",
        "bool_value = bool(a)\n",
        "print(\"As Boolean:\", bool_value, type(bool_value))\n"
      ],
      "metadata": {
        "id": "x9RvmC_FddTE",
        "colab": {
          "base_uri": "https://localhost:8080/"
        },
        "outputId": "e155ae74-0185-48cf-bf04-6210cfbfc806"
      },
      "execution_count": 2,
      "outputs": [
        {
          "output_type": "stream",
          "name": "stdout",
          "text": [
            "Enter something: 25\n",
            "\n",
            "Original input (string): 25 <class 'str'>\n",
            "As Integer: 25 <class 'int'>\n",
            "As Float: 25.0 <class 'float'>\n",
            "As Boolean: True <class 'bool'>\n"
          ]
        }
      ]
    },
    {
      "cell_type": "markdown",
      "source": [
        "10. Write code to demonstrate type casting with list elements."
      ],
      "metadata": {
        "id": "059-saroddwL"
      }
    },
    {
      "cell_type": "code",
      "source": [
        "str_list = [\"10\", \"20\", \"30\", \"40\"]\n",
        "\n",
        "print(\"Original list (strings):\", str_list)\n",
        "\n",
        "int_list = [int(x) for x in str_list]\n",
        "print(\"List after converting to integers:\", int_list)\n",
        "\n",
        "float_list = [float(x) for x in str_list]\n",
        "print(\"List after converting to floats:\", float_list)\n",
        "\n",
        "str_again = [str(x) for x in int_list]\n",
        "print(\"List after converting back to strings:\", str_again)\n",
        "\n",
        "bool_list = [bool(x) for x in int_list]\n",
        "print(\"List after converting to booleans:\", bool_list)\n"
      ],
      "metadata": {
        "id": "JVW_Cc6Udpdt",
        "colab": {
          "base_uri": "https://localhost:8080/"
        },
        "outputId": "9ac86506-f05a-48be-bea0-92d014b735c7"
      },
      "execution_count": 3,
      "outputs": [
        {
          "output_type": "stream",
          "name": "stdout",
          "text": [
            "Original list (strings): ['10', '20', '30', '40']\n",
            "List after converting to integers: [10, 20, 30, 40]\n",
            "List after converting to floats: [10.0, 20.0, 30.0, 40.0]\n",
            "List after converting back to strings: ['10', '20', '30', '40']\n",
            "List after converting to booleans: [True, True, True, True]\n"
          ]
        }
      ]
    },
    {
      "cell_type": "markdown",
      "source": [
        "11. Write a program that checks if a number is positive, negative, or zero."
      ],
      "metadata": {
        "id": "335KcKTrTFsG"
      }
    },
    {
      "cell_type": "code",
      "source": [
        "num = float(input(\"Enter a number: \"))\n",
        "\n",
        "if num > 0:\n",
        "    print(f\"{num} is Positive\")\n",
        "elif num < 0:\n",
        "    print(f\"{num} is Negative\")\n",
        "else:\n",
        "    print(\"The number is Zero\")\n"
      ],
      "metadata": {
        "id": "RnFWC6jNTGMQ",
        "colab": {
          "base_uri": "https://localhost:8080/"
        },
        "outputId": "691f4f4d-be4b-4fba-cc7f-d835b4752053"
      },
      "execution_count": 5,
      "outputs": [
        {
          "output_type": "stream",
          "name": "stdout",
          "text": [
            "Enter a number: -25\n",
            "-25.0 is Negative\n"
          ]
        }
      ]
    },
    {
      "cell_type": "markdown",
      "source": [
        "12. Write a for loop to print numbers from 1 to 10."
      ],
      "metadata": {
        "id": "HYX6n-yyTGob"
      }
    },
    {
      "cell_type": "code",
      "source": [
        "for i in range(1, 11):\n",
        "    print(i)\n"
      ],
      "metadata": {
        "id": "YjWzjtFmTHJd",
        "colab": {
          "base_uri": "https://localhost:8080/"
        },
        "collapsed": true,
        "outputId": "93ae4dea-4802-4e91-d42c-c29b223d77a3"
      },
      "execution_count": 6,
      "outputs": [
        {
          "output_type": "stream",
          "name": "stdout",
          "text": [
            "1\n",
            "2\n",
            "3\n",
            "4\n",
            "5\n",
            "6\n",
            "7\n",
            "8\n",
            "9\n",
            "10\n"
          ]
        }
      ]
    },
    {
      "cell_type": "markdown",
      "source": [
        "13. Write a Python program to find the sum of all even numbers between 1 and 50."
      ],
      "metadata": {
        "id": "TS8ABsSATH-t"
      }
    },
    {
      "cell_type": "code",
      "source": [
        "total = 0\n",
        "for i in range(1, 51):\n",
        "    if i % 2 == 0:\n",
        "        total += i\n",
        "\n",
        "print(\"Sum of even numbers between 1 and 50:\", total)\n"
      ],
      "metadata": {
        "id": "L3hKJ-uSTIdv",
        "colab": {
          "base_uri": "https://localhost:8080/"
        },
        "outputId": "33daf26b-3d59-4abf-9793-e8f2e35bea7b"
      },
      "execution_count": 9,
      "outputs": [
        {
          "output_type": "stream",
          "name": "stdout",
          "text": [
            "Sum of even numbers between 1 and 50: 650\n"
          ]
        }
      ]
    },
    {
      "cell_type": "markdown",
      "source": [
        "14. Write a program to reverse a string using a while loop."
      ],
      "metadata": {
        "id": "vCj7Ny3fTI6X"
      }
    },
    {
      "cell_type": "code",
      "source": [
        "text = input(\"Enter a string: \")\n",
        "\n",
        "reversed_text = \"\"\n",
        "i = len(text) - 1\n",
        "\n",
        "while i >= 0:\n",
        "    reversed_text += text[i]\n",
        "    i -= 1\n",
        "\n",
        "print(\"Reversed string:\", reversed_text)\n"
      ],
      "metadata": {
        "id": "RVHu5sjfTJW5",
        "colab": {
          "base_uri": "https://localhost:8080/"
        },
        "outputId": "727403ee-b7ed-4006-cc33-179c009a2df0"
      },
      "execution_count": 10,
      "outputs": [
        {
          "output_type": "stream",
          "name": "stdout",
          "text": [
            "Enter a string: bj\n",
            "Reversed string: jb\n"
          ]
        }
      ]
    },
    {
      "cell_type": "markdown",
      "source": [
        "15. Write a Python program to calculate the factorial of a number provided by the user using a while loop."
      ],
      "metadata": {
        "id": "IVWz7SPTUJHp"
      }
    },
    {
      "cell_type": "code",
      "source": [
        "\n",
        "num = int(input(\"Enter a number: \"))\n",
        "\n",
        "factorial = 1\n",
        "i = 1\n",
        "\n",
        "while i <= num:\n",
        "    factorial *= i\n",
        "    i += 1\n",
        "\n",
        "print(f\"Factorial of {num} is {factorial}\")\n"
      ],
      "metadata": {
        "id": "dcJ-WG8YUL3O",
        "colab": {
          "base_uri": "https://localhost:8080/"
        },
        "outputId": "b0456784-77c5-4417-b710-bf5bb5dbffb8"
      },
      "execution_count": 12,
      "outputs": [
        {
          "output_type": "stream",
          "name": "stdout",
          "text": [
            "Enter a number: 4\n",
            "Factorial of 4 is 24\n"
          ]
        }
      ]
    }
  ]
}